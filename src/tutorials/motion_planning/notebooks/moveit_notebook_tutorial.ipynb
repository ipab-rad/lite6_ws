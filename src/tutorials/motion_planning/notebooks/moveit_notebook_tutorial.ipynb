{
 "cells": [
  {
   "cell_type": "markdown",
   "id": "4df8633e",
   "metadata": {},
   "source": [
    "# Introduction\n",
    "\n",
    "Welcome to this tutorial on using jupyter notebooks with Moveit 2. A great benefit of being able to interact with MoveIt via a Python notebook is the ability to rapidly prototype code. We hope you find this interface intuitive and that you gain value from using MoveIt via Python notebooks.\n",
    "\n",
    "In this tutorial we will cover the following: \n",
    "\n",
    "* The required imports to run the notebook\n",
    "* A motion planning example\n",
    "* A teleoperation example\n",
    "\n",
    "If you have suggestions or feedback for this tutorial please post an issue on GitHub (https://github.com/ros-planning/moveit2_tutorials) and tag @peterdavidfagan."
   ]
  },
  {
   "cell_type": "markdown",
   "id": "91901c66",
   "metadata": {},
   "source": [
    "## Imports\n",
    "\n",
    "Note: to launch this notebook and the nodes it depends on you must first specify a launch file. Details are provided earlier in this tutorial ()."
   ]
  },
  {
   "cell_type": "code",
   "execution_count": 1,
   "id": "7bd810f5",
   "metadata": {},
   "outputs": [],
   "source": [
    "import os\n",
    "import math\n",
    "import sys\n",
    "import yaml\n",
    "import rclpy\n",
    "import numpy as np\n",
    "\n",
    "# message libraries\n",
    "from geometry_msgs.msg import PoseStamped, Pose\n",
    "\n",
    "# moveit_py\n",
    "from moveit.planning import MoveItPy\n",
    "from moveit.core.robot_state import RobotState\n",
    "from moveit.core.kinematic_constraints import construct_joint_constraint\n",
    "\n",
    "# config file libraries\n",
    "from moveit_configs_utils import MoveItConfigsBuilder\n",
    "from ament_index_python.packages import get_package_share_directory\n",
    "\n",
    "\n",
    "# we need to specify our moveit_py config at the top of each notebook we use. \n",
    "# this is since we will start spinning a moveit_py node within this notebook.\n",
    "\n",
    "moveit_config = (\n",
    "        MoveItConfigsBuilder(robot_name=\"lite6\", package_name=\"moveit_resources_lite6_moveit_config\")\n",
    "        .robot_description_semantic(file_path=\"config/lite6.srdf\")\n",
    "        .trajectory_execution(file_path=\"config/moveit_controllers.yaml\")\n",
    "        .robot_description(file_path=get_package_share_directory(\"moveit_resources_lite6_description\")\n",
    "                          + \"/urdf/lite6.urdf\")\n",
    "        .moveit_cpp(\n",
    "            file_path=get_package_share_directory(\"lite6_moveit_demos\")\n",
    "            + \"/config/jupyter_notebook_prototyping.yaml\"\n",
    "        )\n",
    "        .to_moveit_configs()\n",
    "    ).to_dict()"
   ]
  },
  {
   "cell_type": "markdown",
   "id": "d44015e2",
   "metadata": {},
   "source": [
    "## Setup"
   ]
  },
  {
   "cell_type": "code",
   "execution_count": 2,
   "id": "f9d767d3",
   "metadata": {},
   "outputs": [
    {
     "name": "stderr",
     "output_type": "stream",
     "text": [
      "[INFO] [1676474926.256362222] [moveit_cpp_initializer]: Initialize rclcpp\n",
      "[INFO] [1676474926.256423122] [moveit_cpp_initializer]: Initialize node parameters\n",
      "[INFO] [1676474926.279231799] [moveit_cpp_initializer]: params_filepath: /tmp/launch_params_r8346a8w\n",
      "[INFO] [1676474926.279243999] [moveit_cpp_initializer]: Initialize node and executor\n",
      "[INFO] [1676474926.329649343] [moveit_cpp_initializer]: Spin separate thread\n",
      "[INFO] [1676474926.331147439] [moveit_rdf_loader.rdf_loader]: Loaded robot model in 0.00136235 seconds\n",
      "[INFO] [1676474926.331209739] [moveit_robot_model.robot_model]: Loading robot model 'lite6'...\n",
      "[INFO] [1676474926.331221189] [moveit_robot_model.robot_model]: No root/virtual joint specified in SRDF. Assuming fixed joint\n",
      "[INFO] [1676474926.423631045] [kdl_parser]: Link link_base had 1 children.\n",
      "[INFO] [1676474926.423648755] [kdl_parser]: Link link1 had 1 children.\n",
      "[INFO] [1676474926.423655855] [kdl_parser]: Link link2 had 1 children.\n",
      "[INFO] [1676474926.423658695] [kdl_parser]: Link link3 had 1 children.\n",
      "[INFO] [1676474926.423661135] [kdl_parser]: Link link4 had 1 children.\n",
      "[INFO] [1676474926.423663555] [kdl_parser]: Link link5 had 1 children.\n",
      "[INFO] [1676474926.423665935] [kdl_parser]: Link link6 had 1 children.\n",
      "[INFO] [1676474926.423668145] [kdl_parser]: Link link_eef had 1 children.\n",
      "[INFO] [1676474926.423670765] [kdl_parser]: Link uflite_gripper_link had 1 children.\n",
      "[INFO] [1676474926.423673255] [kdl_parser]: Link link_tcp had 0 children.\n",
      "[INFO] [1676474926.423824406] [moveit_kinematics_base.kinematics_base]: Joint weights for group 'lite6': 1 1 1 1 1 1\n",
      "[INFO] [1676474927.612342164] [moveit.ros_planning_interface.moveit_cpp]: Listening to '/joint_states' for joint states\n",
      "[INFO] [1676474927.613342797] [moveit_ros.current_state_monitor]: Listening to joint states on topic '/joint_states'\n",
      "[INFO] [1676474927.615424505] [moveit_ros.planning_scene_monitor.planning_scene_monitor]: Listening to '/moveit_cpp/planning_scene_monitor' for attached collision objects\n",
      "[INFO] [1676474927.616039268] [moveit_ros.planning_scene_monitor.planning_scene_monitor]: Publishing maintained planning scene on '/moveit_cpp/monitored_planning_scene'\n",
      "[INFO] [1676474927.616157468] [moveit_ros.planning_scene_monitor.planning_scene_monitor]: Starting planning scene monitor\n",
      "[INFO] [1676474927.616377489] [moveit_ros.planning_scene_monitor.planning_scene_monitor]: Listening to '/moveit_cpp/publish_planning_scene'\n",
      "[INFO] [1676474927.616384809] [moveit_ros.planning_scene_monitor.planning_scene_monitor]: Starting world geometry update monitor for collision objects, attached objects, octomap updates.\n",
      "[INFO] [1676474927.616648160] [moveit_ros.planning_scene_monitor.planning_scene_monitor]: Listening to 'collision_object'\n",
      "[INFO] [1676474927.616877241] [moveit_ros.planning_scene_monitor.planning_scene_monitor]: Listening to 'planning_scene_world' for planning scene world geometry\n",
      "[WARN] [1676474927.617495683] [moveit.ros.occupancy_map_monitor.middleware_handle]: Resolution not specified for Octomap. Assuming resolution = 0.1 instead\n",
      "[ERROR] [1676474927.617504543] [moveit.ros.occupancy_map_monitor.middleware_handle]: No 3D sensor plugin(s) defined for octomap updates\n",
      "[INFO] [1676474927.665647569] [moveit.ros_planning_interface.moveit_cpp]: Loading planning pipeline 'ompl'\n",
      "[INFO] [1676474927.672009163] [moveit.ros_planning.planning_pipeline]: Using planning interface 'OMPL'\n",
      "[INFO] [1676474927.674972084] [moveit_ros.add_time_optimal_parameterization]: Param 'ompl.path_tolerance' was not set. Using default value: 0.100000\n",
      "[INFO] [1676474927.674981164] [moveit_ros.add_time_optimal_parameterization]: Param 'ompl.resample_dt' was not set. Using default value: 0.100000\n",
      "[INFO] [1676474927.674984404] [moveit_ros.add_time_optimal_parameterization]: Param 'ompl.min_angle_change' was not set. Using default value: 0.001000\n",
      "[INFO] [1676474927.675019804] [moveit_ros.fix_workspace_bounds]: Param 'ompl.default_workspace_bounds' was not set. Using default value: 10.000000\n",
      "[INFO] [1676474927.675038344] [moveit_ros.fix_start_state_bounds]: Param 'ompl.start_state_max_bounds_error' was set to 0.100000\n",
      "[INFO] [1676474927.675041914] [moveit_ros.fix_start_state_bounds]: Param 'ompl.start_state_max_dt' was not set. Using default value: 0.500000\n",
      "[INFO] [1676474927.675056125] [moveit_ros.fix_start_state_collision]: Param 'ompl.start_state_max_dt' was not set. Using default value: 0.500000\n",
      "[INFO] [1676474927.675060025] [moveit_ros.fix_start_state_collision]: Param 'ompl.jiggle_fraction' was not set. Using default value: 0.020000\n",
      "[INFO] [1676474927.675066075] [moveit_ros.fix_start_state_collision]: Param 'ompl.max_sampling_attempts' was not set. Using default value: 100\n",
      "[INFO] [1676474927.675083625] [moveit.ros_planning.planning_pipeline]: Using planning request adapter 'Add Time Optimal Parameterization'\n",
      "[INFO] [1676474927.675087525] [moveit.ros_planning.planning_pipeline]: Using planning request adapter 'Resolve constraint frames to robot links'\n",
      "[INFO] [1676474927.675089435] [moveit.ros_planning.planning_pipeline]: Using planning request adapter 'Fix Workspace Bounds'\n",
      "[INFO] [1676474927.675091495] [moveit.ros_planning.planning_pipeline]: Using planning request adapter 'Fix Start State Bounds'\n",
      "[INFO] [1676474927.675093215] [moveit.ros_planning.planning_pipeline]: Using planning request adapter 'Fix Start State In Collision'\n",
      "[INFO] [1676474927.675095125] [moveit.ros_planning.planning_pipeline]: Using planning request adapter 'Fix Start State Path Constraints'\n",
      "[INFO] [1676474927.690651434] [moveit.plugins.moveit_simple_controller_manager]: Added FollowJointTrajectory controller for lite6_traj_controller\n",
      "[INFO] [1676474927.690811715] [moveit.plugins.moveit_simple_controller_manager]: Returned 1 controllers in list\n",
      "[INFO] [1676474927.690847825] [moveit.plugins.moveit_simple_controller_manager]: Returned 1 controllers in list\n",
      "[INFO] [1676474927.691179706] [moveit_ros.trajectory_execution_manager]: Trajectory execution is managing controllers\n",
      "[WARN] [1676474927.692046240] [moveit_py]: Parameter 'plan_request_params.planner_id' not found in config use default value instead, check parameter type and namespace in YAML file\n",
      "[WARN] [1676474927.692074630] [moveit_py]: Parameter 'plan_request_params.planning_time' not found in config use default value instead, check parameter type and namespace in YAML file\n"
     ]
    }
   ],
   "source": [
    "# initialise rclpy (only for logging purposes)\n",
    "rclpy.init()\n",
    "\n",
    "# instantiate moveit_py instance and a planning component for the panda_arm\n",
    "moveit = MoveItPy(node_name=\"moveit_py\", config_dict=moveit_config)\n",
    "lite6 = moveit.get_planning_component(\"lite6\")"
   ]
  },
  {
   "cell_type": "markdown",
   "id": "2f72a61e",
   "metadata": {},
   "source": [
    "## Motion Planning Example"
   ]
  },
  {
   "cell_type": "code",
   "execution_count": 3,
   "id": "2cf83a9c",
   "metadata": {},
   "outputs": [
    {
     "name": "stderr",
     "output_type": "stream",
     "text": [
      "[INFO] [1676474928.260037177] [moveit.ompl_planning.model_based_planning_context]: Planner configuration 'lite6' will use planner 'geometric::RRTConnect'. Additional configuration parameters will be set when the planner is constructed.\n",
      "[INFO] [1676474930.286417091] [moveit.plugins.moveit_simple_controller_manager]: Returned 1 controllers in list\n",
      "[INFO] [1676474930.286456821] [moveit.plugins.moveit_simple_controller_manager]: Returned 1 controllers in list\n",
      "[INFO] [1676474930.286622902] [moveit.plugins.moveit_simple_controller_manager]: Returned 1 controllers in list\n",
      "[INFO] [1676474930.286635962] [moveit.plugins.moveit_simple_controller_manager]: Returned 1 controllers in list\n",
      "[INFO] [1676474930.286742713] [moveit_ros.trajectory_execution_manager]: Validating trajectory with allowed_start_tolerance 0.01\n",
      "[INFO] [1676474930.379210879] [moveit_ros.trajectory_execution_manager]: Starting trajectory execution ...\n",
      "[INFO] [1676474930.379252179] [moveit.plugins.moveit_simple_controller_manager]: Returned 1 controllers in list\n",
      "[INFO] [1676474930.379301439] [moveit.plugins.moveit_simple_controller_manager]: Returned 1 controllers in list\n",
      "[INFO] [1676474930.379398570] [moveit.simple_controller_manager.follow_joint_trajectory_controller_handle]: sending trajectory to lite6_traj_controller\n",
      "[INFO] [1676474930.380337463] [moveit.simple_controller_manager.follow_joint_trajectory_controller_handle]: lite6_traj_controller started execution\n",
      "[INFO] [1676474930.380353033] [moveit.simple_controller_manager.follow_joint_trajectory_controller_handle]: Goal request accepted!\n",
      "[INFO] [1676474935.280659616] [moveit.simple_controller_manager.follow_joint_trajectory_controller_handle]: Controller 'lite6_traj_controller' successfully finished\n",
      "[INFO] [1676474935.579130745] [moveit_ros.trajectory_execution_manager]: Completed trajectory execution with status SUCCEEDED ...\n"
     ]
    }
   ],
   "source": [
    "lite6.set_start_state_to_current_state()\n",
    "\n",
    "# set constraints message\n",
    "joint_values = {\n",
    "    \"joint1\": math.radians(100),\n",
    "    \"joint2\": math.radians(10.4),\n",
    "    \"joint3\": math.radians(31.1),\n",
    "    \"joint4\": math.radians(-1.5),\n",
    "    \"joint5\": math.radians(21.5),\n",
    "    \"joint6\": math.radians(1.3),\n",
    "}\n",
    "robot_state = RobotState(moveit.get_robot_model())\n",
    "robot_state.joint_positions = joint_values\n",
    "joint_constraint = construct_joint_constraint(\n",
    "    robot_state=robot_state,\n",
    "    joint_model_group=moveit.get_robot_model().get_joint_model_group(\"lite6\"),\n",
    ")\n",
    "lite6.set_goal_state(motion_plan_constraints=[joint_constraint])\n",
    "\n",
    "# plan to goal\n",
    "plan_result = lite6.plan()\n",
    "\n",
    "# execute the plan\n",
    "if plan_result:\n",
    "    robot_trajectory = plan_result.trajectory\n",
    "    moveit.execute(robot_trajectory, blocking=True, controllers=[])"
   ]
  },
  {
   "cell_type": "code",
   "execution_count": 4,
   "id": "2f590234",
   "metadata": {},
   "outputs": [
    {
     "name": "stderr",
     "output_type": "stream",
     "text": [
      "[INFO] [1676474972.442897196] [moveit.ompl_planning.model_based_planning_context]: Planner configuration 'lite6' will use planner 'geometric::RRTConnect'. Additional configuration parameters will be set when the planner is constructed.\n",
      "[INFO] [1676474974.337887947] [moveit.plugins.moveit_simple_controller_manager]: Returned 1 controllers in list\n",
      "[INFO] [1676474974.337931837] [moveit.plugins.moveit_simple_controller_manager]: Returned 1 controllers in list\n",
      "[INFO] [1676474974.338083938] [moveit.plugins.moveit_simple_controller_manager]: Returned 1 controllers in list\n",
      "[INFO] [1676474974.338096548] [moveit.plugins.moveit_simple_controller_manager]: Returned 1 controllers in list\n",
      "[INFO] [1676474974.338199119] [moveit_ros.trajectory_execution_manager]: Validating trajectory with allowed_start_tolerance 0.01\n",
      "[INFO] [1676474974.379113635] [moveit_ros.trajectory_execution_manager]: Starting trajectory execution ...\n",
      "[INFO] [1676474974.379147045] [moveit.plugins.moveit_simple_controller_manager]: Returned 1 controllers in list\n",
      "[INFO] [1676474974.379177015] [moveit.plugins.moveit_simple_controller_manager]: Returned 1 controllers in list\n",
      "[INFO] [1676474974.379270445] [moveit.simple_controller_manager.follow_joint_trajectory_controller_handle]: sending trajectory to lite6_traj_controller\n",
      "[INFO] [1676474974.379668357] [moveit.simple_controller_manager.follow_joint_trajectory_controller_handle]: lite6_traj_controller started execution\n",
      "[INFO] [1676474974.379677487] [moveit.simple_controller_manager.follow_joint_trajectory_controller_handle]: Goal request accepted!\n",
      "[INFO] [1676474979.279852545] [moveit.simple_controller_manager.follow_joint_trajectory_controller_handle]: Controller 'lite6_traj_controller' successfully finished\n",
      "[INFO] [1676474979.579119327] [moveit_ros.trajectory_execution_manager]: Completed trajectory execution with status SUCCEEDED ...\n"
     ]
    }
   ],
   "source": [
    "lite6.set_start_state_to_current_state()\n",
    "lite6.set_goal_state(configuration_name=\"home\")\n",
    "# plan to goal\n",
    "plan_result = lite6.plan()\n",
    "\n",
    "# execute the plan\n",
    "if plan_result:\n",
    "    robot_trajectory = plan_result.trajectory\n",
    "    moveit.execute(robot_trajectory, blocking=True, controllers=[])"
   ]
  },
  {
   "cell_type": "code",
   "execution_count": null,
   "id": "08ca9268",
   "metadata": {},
   "outputs": [],
   "source": []
  },
  {
   "cell_type": "markdown",
   "id": "1c53b46f",
   "metadata": {},
   "source": [
    "## Teleop"
   ]
  },
  {
   "cell_type": "code",
   "execution_count": null,
   "id": "f6eda60b",
   "metadata": {},
   "outputs": [],
   "source": [
    "from moveit.servo_client.devices.ps4_dualshock import PS4DualShockTeleop\n",
    "\n",
    "\n",
    "ps4 = PS4DualShockTeleop()\n",
    "ps4.start_teleop()"
   ]
  }
 ],
 "metadata": {
  "kernelspec": {
   "display_name": "Python 3 (ipykernel)",
   "language": "python",
   "name": "python3"
  },
  "language_info": {
   "codemirror_mode": {
    "name": "ipython",
    "version": 3
   },
   "file_extension": ".py",
   "mimetype": "text/x-python",
   "name": "python",
   "nbconvert_exporter": "python",
   "pygments_lexer": "ipython3",
   "version": "3.10.6"
  }
 },
 "nbformat": 4,
 "nbformat_minor": 5
}
